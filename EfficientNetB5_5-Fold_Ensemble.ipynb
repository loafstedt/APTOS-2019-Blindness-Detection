{
 "cells": [
  {
   "cell_type": "markdown",
   "metadata": {},
   "source": [
    "## Dependencies"
   ]
  },
  {
   "cell_type": "code",
   "execution_count": null,
   "metadata": {
    "_cell_guid": "b1076dfc-b9ad-4769-8c92-a6c4dae69d19",
    "_kg_hide-input": true,
    "_kg_hide-output": true,
    "_uuid": "8f2839f25d086af736a60e9eeb907d3b93b6e0e5"
   },
   "outputs": [],
   "source": [
    "import os\n",
    "import sys\n",
    "import cv2\n",
    "import shutil\n",
    "import random\n",
    "import warnings\n",
    "import numpy as np\n",
    "import pandas as pd\n",
    "import seaborn as sns\n",
    "import matplotlib.pyplot as plt\n",
    "from tensorflow import set_random_seed\n",
    "from sklearn.metrics import confusion_matrix, cohen_kappa_score\n",
    "from keras.models import Model\n",
    "from keras.preprocessing.image import ImageDataGenerator\n",
    "from keras.layers import Dense, GlobalAveragePooling2D, Input\n",
    "\n",
    "from google.colab import drive\n",
    "drive.mount('/content/drive')\n",
    "\n",
    "def seed_everything(seed=0):\n",
    "    random.seed(seed)\n",
    "    os.environ['PYTHONHASHSEED'] = str(seed)\n",
    "    np.random.seed(seed)\n",
    "    set_random_seed(0)\n",
    "\n",
    "seed = 0\n",
    "seed_everything(seed)\n",
    "%matplotlib inline\n",
    "sns.set(style=\"whitegrid\")\n",
    "warnings.filterwarnings(\"ignore\")\n",
    "sys.path.append(\"/content/efficientnet-master/\")\n",
    "from efficientnet import *"
   ]
  },
  {
   "cell_type": "markdown",
   "metadata": {
    "_kg_hide-output": true
   },
   "source": [
    "## Load data"
   ]
  },
  {
   "cell_type": "code",
   "execution_count": null,
   "metadata": {
    "_cell_guid": "79c7e3d0-c299-4dcb-8224-4455121ee9b0",
    "_kg_hide-input": true,
    "_uuid": "d629ff2d2480ee46fbb7e2d37f6b5fab8052498a"
   },
   "outputs": [
    {
     "name": "stdout",
     "output_type": "stream",
     "text": [
      "Number of train samples:  2929\n",
      "Number of validation samples:  733\n",
      "Number of test samples:  1928\n"
     ]
    },
    {
     "data": {
      "text/html": [
       "<div>\n",
       "<style scoped>\n",
       "    .dataframe tbody tr th:only-of-type {\n",
       "        vertical-align: middle;\n",
       "    }\n",
       "\n",
       "    .dataframe tbody tr th {\n",
       "        vertical-align: top;\n",
       "    }\n",
       "\n",
       "    .dataframe thead th {\n",
       "        text-align: right;\n",
       "    }\n",
       "</style>\n",
       "<table border=\"1\" class=\"dataframe\">\n",
       "  <thead>\n",
       "    <tr style=\"text-align: right;\">\n",
       "      <th></th>\n",
       "      <th>id_code</th>\n",
       "      <th>diagnosis</th>\n",
       "      <th>height</th>\n",
       "      <th>width</th>\n",
       "      <th>set</th>\n",
       "    </tr>\n",
       "  </thead>\n",
       "  <tbody>\n",
       "    <tr>\n",
       "      <th>0</th>\n",
       "      <td>55eac26bd383.png</td>\n",
       "      <td>1</td>\n",
       "      <td>1736</td>\n",
       "      <td>2416</td>\n",
       "      <td>train</td>\n",
       "    </tr>\n",
       "    <tr>\n",
       "      <th>1</th>\n",
       "      <td>44e0d56e9d42.png</td>\n",
       "      <td>2</td>\n",
       "      <td>2136</td>\n",
       "      <td>3216</td>\n",
       "      <td>train</td>\n",
       "    </tr>\n",
       "    <tr>\n",
       "      <th>2</th>\n",
       "      <td>aa4407aab872.png</td>\n",
       "      <td>0</td>\n",
       "      <td>1050</td>\n",
       "      <td>1050</td>\n",
       "      <td>train</td>\n",
       "    </tr>\n",
       "    <tr>\n",
       "      <th>3</th>\n",
       "      <td>cffc50047828.png</td>\n",
       "      <td>0</td>\n",
       "      <td>614</td>\n",
       "      <td>819</td>\n",
       "      <td>train</td>\n",
       "    </tr>\n",
       "    <tr>\n",
       "      <th>4</th>\n",
       "      <td>b0f0fa677d5f.png</td>\n",
       "      <td>0</td>\n",
       "      <td>1050</td>\n",
       "      <td>1050</td>\n",
       "      <td>train</td>\n",
       "    </tr>\n",
       "  </tbody>\n",
       "</table>\n",
       "</div>"
      ],
      "text/plain": [
       "            id_code  diagnosis  height  width    set\n",
       "0  55eac26bd383.png          1    1736   2416  train\n",
       "1  44e0d56e9d42.png          2    2136   3216  train\n",
       "2  aa4407aab872.png          0    1050   1050  train\n",
       "3  cffc50047828.png          0     614    819  train\n",
       "4  b0f0fa677d5f.png          0    1050   1050  train"
      ]
     },
     "metadata": {},
     "output_type": "display_data"
    }
   ],
   "source": [
    "hold_out_set = pd.read_csv('../input/aptos-data-split/hold-out.csv')\n",
    "X_train = hold_out_set[hold_out_set['set'] == 'train']\n",
    "X_val = hold_out_set[hold_out_set['set'] == 'validation']\n",
    "test = pd.read_csv('../input/aptos2019-blindness-detection/test.csv')\n",
    "print('Number of train samples: ', X_train.shape[0])\n",
    "print('Number of validation samples: ', X_val.shape[0])\n",
    "print('Number of test samples: ', test.shape[0])\n",
    "\n",
    "# Preprocess data\n",
    "X_train[\"id_code\"] = X_train[\"id_code\"].apply(lambda x: x + \".png\")\n",
    "X_val[\"id_code\"] = X_val[\"id_code\"].apply(lambda x: x + \".png\")\n",
    "test[\"id_code\"] = test[\"id_code\"].apply(lambda x: x + \".png\")\n",
    "display(X_train.head())"
   ]
  },
  {
   "cell_type": "markdown",
   "metadata": {},
   "source": [
    "# Model parameters"
   ]
  },
  {
   "cell_type": "code",
   "execution_count": null,
   "metadata": {},
   "outputs": [],
   "source": [
    "# Model parameters\n",
    "HEIGHT = 456\n",
    "WIDTH = 456\n",
    "CHANNELS = 3\n",
    "TTA_STEPS = 10\n",
    "\n",
    "weights_paths = ['../input/aptos-5fold-456/effNetB5_reg_img456_fold1.h5', '../input/aptos-5fold-456/effNetB5_reg_img456_fold4.h5', \n",
    "                 '../input/aptos-5fold-456/effNetB5_reg_img456_fold2.h5', '../input/aptos-5fold-456/effNetB5_reg_img456_fold5.h5', \n",
    "                 '../input/aptos-5fold-456/effNetB5_reg_img456_fold3.h5'] #All 5 folds\n",
    "n_folds = len(weights_paths)"
   ]
  },
  {
   "cell_type": "markdown",
   "metadata": {},
   "source": [
    "# Model Evaluation and Visualization Functions"
   ]
  },
  {
   "cell_type": "code",
   "execution_count": 4,
   "metadata": {
    "_kg_hide-input": true
   },
   "outputs": [],
   "source": [
    "labels = ['0 - No DR', '1 - Mild', '2 - Moderate', '3 - Severe', '4 - Proliferative DR']\n",
    "def plot_confusion_matrix(train, validation, labels=labels):\n",
    "    train_labels, train_preds = train\n",
    "    validation_labels, validation_preds = validation\n",
    "    fig, (ax1, ax2) = plt.subplots(1, 2, sharex='col', figsize=(24, 7))\n",
    "    train_cnf_matrix = confusion_matrix(train_labels, train_preds)\n",
    "    validation_cnf_matrix = confusion_matrix(validation_labels, validation_preds)\n",
    "\n",
    "    train_cnf_matrix_norm = train_cnf_matrix.astype('float') / train_cnf_matrix.sum(axis=1)[:, np.newaxis]\n",
    "    validation_cnf_matrix_norm = validation_cnf_matrix.astype('float') / validation_cnf_matrix.sum(axis=1)[:, np.newaxis]\n",
    "\n",
    "    train_df_cm = pd.DataFrame(train_cnf_matrix_norm, index=labels, columns=labels)\n",
    "    validation_df_cm = pd.DataFrame(validation_cnf_matrix_norm, index=labels, columns=labels)\n",
    "\n",
    "    sns.heatmap(train_df_cm, annot=True, fmt='.2f', cmap=\"Blues\",ax=ax1).set_title('Train')\n",
    "    sns.heatmap(validation_df_cm, annot=True, fmt='.2f', cmap=sns.cubehelix_palette(8),ax=ax2).set_title('Validation')\n",
    "    plt.show()\n",
    "    \n",
    "def evaluate_model(train, validation):\n",
    "    train_labels, train_preds = train\n",
    "    validation_labels, validation_preds = validation\n",
    "    print(\"Train        Cohen Kappa score: %.3f\" % cohen_kappa_score(train_preds, train_labels, weights='quadratic'))\n",
    "    print(\"Validation   Cohen Kappa score: %.3f\" % cohen_kappa_score(validation_preds, validation_labels, weights='quadratic'))\n",
    "    print(\"Complete set Cohen Kappa score: %.3f\" % cohen_kappa_score(np.append(train_preds, validation_preds), np.append(train_labels, validation_labels), weights='quadratic'))\n",
    "\n",
    "def classify(x):\n",
    "    if x < 0.5:\n",
    "        return 0\n",
    "    elif x < 1.5:\n",
    "        return 1\n",
    "    elif x < 2.5:\n",
    "        return 2\n",
    "    elif x < 3.5:\n",
    "        return 3\n",
    "    return 4\n",
    "\n",
    "def ensemble_preds(model_list, generator):\n",
    "    preds_ensemble = []\n",
    "    for model in model_list:\n",
    "        generator.reset()\n",
    "        preds = model.predict_generator(generator, steps=generator.n)\n",
    "        preds_ensemble.append(preds)\n",
    "\n",
    "    return np.mean(preds_ensemble, axis=0)\n",
    "\n",
    "def apply_tta(model, generator, steps=10):\n",
    "    step_size = generator.n//generator.batch_size\n",
    "    preds_tta = []\n",
    "    for i in range(steps):\n",
    "        generator.reset()\n",
    "        preds = model.predict_generator(generator, steps=step_size)\n",
    "        preds_tta.append(preds)\n",
    "\n",
    "    return np.mean(preds_tta, axis=0)\n",
    "\n",
    "def test_ensemble_preds(model_list, generator, steps=10):\n",
    "    preds_ensemble = []\n",
    "    for model in model_list:\n",
    "        preds = apply_tta(model, generator, steps=10)\n",
    "        preds_ensemble.append(preds)\n",
    "\n",
    "    return np.mean(preds_ensemble, axis=0)"
   ]
  },
  {
   "cell_type": "markdown",
   "metadata": {},
   "source": [
    "# Pre-process images"
   ]
  },
  {
   "cell_type": "code",
   "execution_count": null,
   "metadata": {
    "_kg_hide-input": true
   },
   "outputs": [],
   "source": [
    "train_base_path = '../input/aptos2019-blindness-detection/train_images/'\n",
    "test_base_path = '../input/aptos2019-blindness-detection/test_images/'\n",
    "train_dest_path = 'base_dir/train_images/'\n",
    "validation_dest_path = 'base_dir/validation_images/'\n",
    "test_dest_path =  'base_dir/test_images/'\n",
    "\n",
    "# Making sure directories don't exist\n",
    "if os.path.exists(train_dest_path):\n",
    "    shutil.rmtree(train_dest_path)\n",
    "if os.path.exists(validation_dest_path):\n",
    "    shutil.rmtree(validation_dest_path)\n",
    "if os.path.exists(test_dest_path):\n",
    "    shutil.rmtree(test_dest_path)\n",
    "    \n",
    "# Creating train, validation and test directories\n",
    "os.makedirs(train_dest_path)\n",
    "os.makedirs(validation_dest_path)\n",
    "os.makedirs(test_dest_path)\n",
    "\n",
    "def crop_image(img, tol=7):\n",
    "    if img.ndim ==2:\n",
    "        mask = img>tol\n",
    "        return img[np.ix_(mask.any(1),mask.any(0))]\n",
    "    elif img.ndim==3:\n",
    "        gray_img = cv2.cvtColor(img, cv2.COLOR_RGB2GRAY)\n",
    "        mask = gray_img>tol\n",
    "        check_shape = img[:,:,0][np.ix_(mask.any(1),mask.any(0))].shape[0]\n",
    "        if (check_shape == 0): \n",
    "            return img \n",
    "        else:\n",
    "            img1=img[:,:,0][np.ix_(mask.any(1),mask.any(0))]\n",
    "            img2=img[:,:,1][np.ix_(mask.any(1),mask.any(0))]\n",
    "            img3=img[:,:,2][np.ix_(mask.any(1),mask.any(0))]\n",
    "            img = np.stack([img1,img2,img3],axis=-1)\n",
    "            \n",
    "        return img\n",
    "\n",
    "def circle_crop(img):\n",
    "    img = crop_image(img)\n",
    "\n",
    "    height, width, depth = img.shape\n",
    "    largest_side = np.max((height, width))\n",
    "    img = cv2.resize(img, (largest_side, largest_side))\n",
    "\n",
    "    height, width, depth = img.shape\n",
    "\n",
    "    x = width//2\n",
    "    y = height//2\n",
    "    r = np.amin((x, y))\n",
    "\n",
    "    circle_img = np.zeros((height, width), np.uint8)\n",
    "    cv2.circle(circle_img, (x, y), int(r), 1, thickness=-1)\n",
    "    img = cv2.bitwise_and(img, img, mask=circle_img)\n",
    "    img = crop_image(img)\n",
    "\n",
    "    return img\n",
    "    \n",
    "def preprocess_image(base_path, save_path, image_id, HEIGHT, WIDTH, sigmaX=10):\n",
    "    image = cv2.imread(base_path + image_id)\n",
    "    image = cv2.cvtColor(image, cv2.COLOR_BGR2RGB)\n",
    "    image = circle_crop(image)\n",
    "    image = cv2.resize(image, (HEIGHT, WIDTH))\n",
    "    image = cv2.addWeighted(image, 4, cv2.GaussianBlur(image, (0,0), sigmaX), -4 , 128)\n",
    "    cv2.imwrite(save_path + image_id, image)\n",
    "    \n",
    "# Pre-process train set\n",
    "for i, image_id in enumerate(X_train['id_code']):\n",
    "    preprocess_image(train_base_path, train_dest_path, image_id, HEIGHT, WIDTH)\n",
    "    \n",
    "# Pre-process validation set\n",
    "for i, image_id in enumerate(X_val['id_code']):\n",
    "    preprocess_image(train_base_path, validation_dest_path, image_id, HEIGHT, WIDTH)\n",
    "    \n",
    "# Pre-process test set\n",
    "for i, image_id in enumerate(test['id_code']):\n",
    "    preprocess_image(test_base_path, test_dest_path, image_id, HEIGHT, WIDTH)"
   ]
  },
  {
   "cell_type": "markdown",
   "metadata": {},
   "source": [
    "# Data generator"
   ]
  },
  {
   "cell_type": "code",
   "execution_count": null,
   "metadata": {
    "_kg_hide-input": true
   },
   "outputs": [
    {
     "name": "stdout",
     "output_type": "stream",
     "text": [
      "Found 2929 validated image filenames.\n",
      "Found 733 validated image filenames.\n",
      "Found 1928 validated image filenames.\n"
     ]
    }
   ],
   "source": [
    "# Create an instance of the ImageDataGenerator class to do data augmentation\n",
    "datagen=ImageDataGenerator(rescale=1./255, \n",
    "                           rotation_range=360,\n",
    "                           horizontal_flip=True,\n",
    "                           vertical_flip=True)\n",
    "\n",
    "# Create a data generator for the training set\n",
    "train_generator=datagen.flow_from_dataframe(\n",
    "                        dataframe=X_train,\n",
    "                        directory=train_dest_path,\n",
    "                        x_col=\"id_code\",\n",
    "                        y_col=\"diagnosis\",\n",
    "                        class_mode=\"raw\",\n",
    "                        batch_size=1,\n",
    "                        shuffle=False,\n",
    "                        target_size=(HEIGHT, WIDTH),\n",
    "                        seed=seed)\n",
    "\n",
    "# Create a data generator for the validation set\n",
    "valid_generator=datagen.flow_from_dataframe(\n",
    "                        dataframe=X_val,\n",
    "                        directory=validation_dest_path,\n",
    "                        x_col=\"id_code\",\n",
    "                        y_col=\"diagnosis\",\n",
    "                        class_mode=\"raw\",\n",
    "                        batch_size=1,\n",
    "                        shuffle=False,\n",
    "                        target_size=(HEIGHT, WIDTH),\n",
    "                        seed=seed)\n",
    "\n",
    "# Create a data generator for the test set (no labels)\n",
    "test_generator=datagen.flow_from_dataframe(  \n",
    "                       dataframe=test,\n",
    "                       directory=test_dest_path,\n",
    "                       x_col=\"id_code\",\n",
    "                       batch_size=1,\n",
    "                       class_mode=None,\n",
    "                       shuffle=False,\n",
    "                       target_size=(HEIGHT, WIDTH),\n",
    "                       seed=seed)"
   ]
  },
  {
   "cell_type": "markdown",
   "metadata": {},
   "source": [
    "# Model"
   ]
  },
  {
   "cell_type": "code",
   "execution_count": null,
   "metadata": {},
   "outputs": [],
   "source": [
    "def create_model(input_shape, weights_path):\n",
    "    input_tensor = Input(shape=input_shape)\n",
    "    base_model = EfficientNetB5(weights=None, \n",
    "                                include_top=False,\n",
    "                                input_tensor=input_tensor)     # Initialize the EfficientNetB5 model without pre-trained weights\n",
    "\n",
    "    x = GlobalAveragePooling2D()(base_model.output)     # Add a global average pooling layer to reduce the output of the base model to a single vector per sample\n",
    "    final_output = Dense(1, activation='linear', name='final_output')(x)     # Add a dense layer with a single unit for regression output, using a linear activation function\n",
    "    model = Model(input_tensor, final_output)     # Create the final model by specifying the input tensor and the output tensor\n",
    "    model.load_weights(weights_path)    # Load the pre-trained weights from the 5 folds into the model\n",
    "    \n",
    "    return model # Returning the constructed model"
   ]
  },
  {
   "cell_type": "code",
   "execution_count": null,
   "metadata": {},
   "outputs": [],
   "source": [
    "model_list = [] # Initialize an empty list to hold the models\n",
    "\n",
    "for weights_path in weights_paths:\n",
    "    # Creating a model with a specified input shape and weight and append the created model to the list\n",
    "    model_list.append(create_model(input_shape=(HEIGHT, WIDTH, CHANNELS), weights_path=weights_path))"
   ]
  },
  {
   "cell_type": "code",
   "execution_count": null,
   "metadata": {
    "_kg_hide-input": true
   },
   "outputs": [],
   "source": [
    "# Train predictions\n",
    "preds_ensemble = ensemble_preds(model_list, train_generator) # Generate ensemble predictions from the models using the training data\n",
    "preds_ensemble = [classify(x) for x in preds_ensemble] # Classify each prediction into discrete classes based on the output\n",
    "train_preds = pd.DataFrame({'label':train_generator.labels, 'pred':preds_ensemble}) # Create a DataFrame to store the true labels and predicted labels for the training data\n",
    "\n",
    "# Validation predictions\n",
    "preds_ensemble = ensemble_preds(model_list, valid_generator) # Same as above, but for validation dataset predictions\n",
    "preds_ensemble = [classify(x) for x in preds_ensemble]\n",
    "validation_preds = pd.DataFrame({'label':valid_generator.labels, 'pred':preds_ensemble})"
   ]
  },
  {
   "cell_type": "markdown",
   "metadata": {},
   "source": [
    "# Model Evaluation"
   ]
  },
  {
   "cell_type": "markdown",
   "metadata": {},
   "source": [
    "## Confusion Matrix"
   ]
  },
  {
   "cell_type": "code",
   "execution_count": 10,
   "metadata": {
    "_kg_hide-input": true
   },
   "outputs": [
    {
     "data": {
      "image/png": "[encoded data removed]",
      "text/plain": [
       "<Figure size 1728x504 with 4 Axes>"
      ]
     },
     "metadata": {
      "needs_background": "light"
     },
     "output_type": "display_data"
    }
   ],
   "source": [
    "plot_confusion_matrix((train_preds['label'], train_preds['pred']), (validation_preds['label'], validation_preds['pred']))"
   ]
  },
  {
   "cell_type": "markdown",
   "metadata": {},
   "source": [
    "## Quadratic Weighted Kappa"
   ]
  },
  {
   "cell_type": "code",
   "execution_count": 11,
   "metadata": {
    "_kg_hide-input": true
   },
   "outputs": [
    {
     "name": "stdout",
     "output_type": "stream",
     "text": [
      "Train        Cohen Kappa score: 0.959\n",
      "Validation   Cohen Kappa score: 0.960\n",
      "Complete set Cohen Kappa score: 0.959\n"
     ]
    }
   ],
   "source": [
    "evaluate_model((train_preds['label'], train_preds['pred']), (validation_preds['label'], validation_preds['pred']))"
   ]
  },
  {
   "cell_type": "markdown",
   "metadata": {},
   "source": [
    "## Apply model to test set and output predictions"
   ]
  },
  {
   "cell_type": "code",
   "execution_count": 12,
   "metadata": {
    "_kg_hide-input": true
   },
   "outputs": [],
   "source": [
    "preds = test_ensemble_preds(model_list, test_generator, steps=TTA_STEPS)\n",
    "predictions = [classify(x) for x in preds]\n",
    "\n",
    "results = pd.DataFrame({'id_code':test['id_code'], 'diagnosis':predictions})\n",
    "results['id_code'] = results['id_code'].map(lambda x: str(x)[:-4])"
   ]
  },
  {
   "cell_type": "code",
   "execution_count": 13,
   "metadata": {
    "_kg_hide-input": true,
    "_kg_hide-output": false
   },
   "outputs": [],
   "source": [
    "# Cleaning created directories\n",
    "if os.path.exists(train_dest_path):\n",
    "    shutil.rmtree(train_dest_path)\n",
    "if os.path.exists(validation_dest_path):\n",
    "    shutil.rmtree(validation_dest_path)\n",
    "if os.path.exists(test_dest_path):\n",
    "    shutil.rmtree(test_dest_path)"
   ]
  },
  {
   "cell_type": "markdown",
   "metadata": {},
   "source": [
    "# Predictions class distribution"
   ]
  },
  {
   "cell_type": "code",
   "execution_count": 14,
   "metadata": {
    "_kg_hide-input": true
   },
   "outputs": [
    {
     "data": {
      "image/png": "[encoded data removed]",
      "text/plain": [
       "<Figure size 1728x626.4 with 1 Axes>"
      ]
     },
     "metadata": {
      "needs_background": "light"
     },
     "output_type": "display_data"
    }
   ],
   "source": [
    "fig = plt.subplots(sharex='col', figsize=(24, 8.7))\n",
    "sns.countplot(x=\"diagnosis\", data=results, palette=\"GnBu_d\").set_title('Test')\n",
    "sns.despine()\n",
    "plt.show()"
   ]
  }
 ],
 "metadata": {
  "kernelspec": {
   "display_name": "Python 3",
   "language": "python",
   "name": "python3"
  },
  "language_info": {
   "codemirror_mode": {
    "name": "ipython",
    "version": 3
   },
   "file_extension": ".py",
   "mimetype": "text/x-python",
   "name": "python",
   "nbconvert_exporter": "python",
   "pygments_lexer": "ipython3",
   "version": "3.6.6"
  }
 },
 "nbformat": 4,
 "nbformat_minor": 1
}
